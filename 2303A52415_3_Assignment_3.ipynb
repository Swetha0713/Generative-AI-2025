{
  "nbformat": 4,
  "nbformat_minor": 0,
  "metadata": {
    "colab": {
      "provenance": [],
      "authorship_tag": "ABX9TyPEcKsHV3xITszEIE1WAu96",
      "include_colab_link": true
    },
    "kernelspec": {
      "name": "python3",
      "display_name": "Python 3"
    },
    "language_info": {
      "name": "python"
    }
  },
  "cells": [
    {
      "cell_type": "markdown",
      "metadata": {
        "id": "view-in-github",
        "colab_type": "text"
      },
      "source": [
        "<a href=\"https://colab.research.google.com/github/Swetha0713/Generative-AI-2025/blob/main/2303A52415_3_Assignment_3.ipynb\" target=\"_parent\"><img src=\"https://colab.research.google.com/assets/colab-badge.svg\" alt=\"Open In Colab\"/></a>"
      ]
    },
    {
      "cell_type": "code",
      "execution_count": null,
      "metadata": {
        "id": "Z9PhtgHe_i_X"
      },
      "outputs": [],
      "source": []
    },
    {
      "cell_type": "markdown",
      "source": [
        "1 problem"
      ],
      "metadata": {
        "id": "XYaQlaMt_lAU"
      }
    },
    {
      "cell_type": "code",
      "source": [
        "def f(x):\n",
        "    return 5 * x**4 + 3 * x**2 + 10\n",
        "\n",
        "def f_prime(x):\n",
        "    return 20 * x**3 + 6 * x\n",
        "\n",
        "def gradient_descent(learning_rate, iterations):\n",
        "    x = 0  # Starting point\n",
        "    for _ in range(iterations):\n",
        "        x = x - learning_rate * f_prime(x)\n",
        "    return x\n",
        "\n",
        "learning_rate = 0.01\n",
        "iterations = 1000\n",
        "min_x = gradient_descent(learning_rate, iterations)\n",
        "print(f\"Minimum value of x for f(x) is {min_x}\")\n"
      ],
      "metadata": {
        "colab": {
          "base_uri": "https://localhost:8080/"
        },
        "id": "Wd5Dj9EW_nT7",
        "outputId": "ee26fb7d-9da0-479f-e049-9e86e14ef634"
      },
      "execution_count": 1,
      "outputs": [
        {
          "output_type": "stream",
          "name": "stdout",
          "text": [
            "Minimum value of x for f(x) is 0.0\n"
          ]
        }
      ]
    },
    {
      "cell_type": "markdown",
      "source": [
        "2 problem"
      ],
      "metadata": {
        "id": "IvRC8bpc_xWv"
      }
    },
    {
      "cell_type": "code",
      "source": [
        "import math\n",
        "\n",
        "def g(x, y):\n",
        "    return 3 * x**2 + 5 * math.exp(-y) + 10\n",
        "\n",
        "def g_prime_x(x, y):\n",
        "    return 6 * x\n",
        "\n",
        "def g_prime_y(x, y):\n",
        "    return -5 * math.exp(-y)\n",
        "\n",
        "def gradient_descent_2d(learning_rate, iterations):\n",
        "    x, y = 0, 0  # Starting points\n",
        "    for _ in range(iterations):\n",
        "        x = x - learning_rate * g_prime_x(x, y)\n",
        "        y = y - learning_rate * g_prime_y(x, y)\n",
        "    return x, y\n",
        "\n",
        "learning_rate = 0.01\n",
        "iterations = 1000\n",
        "min_x, min_y = gradient_descent_2d(learning_rate, iterations)\n",
        "print(f\"Minimum values of x and y for g(x, y) are {min_x} and {min_y}\")\n"
      ],
      "metadata": {
        "colab": {
          "base_uri": "https://localhost:8080/"
        },
        "id": "Nrouwb-B_zOf",
        "outputId": "e51ecd41-5170-4383-c420-dd0575cddc0c"
      },
      "execution_count": 2,
      "outputs": [
        {
          "output_type": "stream",
          "name": "stdout",
          "text": [
            "Minimum values of x and y for g(x, y) are 0.0 and 3.9337602416246904\n"
          ]
        }
      ]
    },
    {
      "cell_type": "code",
      "source": [],
      "metadata": {
        "id": "umvxcEnd_3gs"
      },
      "execution_count": null,
      "outputs": []
    },
    {
      "cell_type": "markdown",
      "source": [
        "3 problem"
      ],
      "metadata": {
        "id": "61apE1XK_4E4"
      }
    },
    {
      "cell_type": "code",
      "source": [
        "def z(x):\n",
        "    return 1 / (1 + math.exp(-x))\n",
        "\n",
        "def z_prime(x):\n",
        "    sigmoid = z(x)\n",
        "    return sigmoid * (1 - sigmoid)\n",
        "\n",
        "def gradient_descent_sigmoid(learning_rate, iterations):\n",
        "    x = 0  # Starting point\n",
        "    for _ in range(iterations):\n",
        "        x = x - learning_rate * z_prime(x)\n",
        "    return x\n",
        "\n",
        "learning_rate = 0.01\n",
        "iterations = 1000\n",
        "min_x_sigmoid = gradient_descent_sigmoid(learning_rate, iterations)\n",
        "print(f\"Minimum value of x for z(x) is {min_x_sigmoid}\")\n"
      ],
      "metadata": {
        "colab": {
          "base_uri": "https://localhost:8080/"
        },
        "id": "asdkBChM_5a0",
        "outputId": "f482c0fb-15d5-449e-e09a-6a313196cbbc"
      },
      "execution_count": 3,
      "outputs": [
        {
          "output_type": "stream",
          "name": "stdout",
          "text": [
            "Minimum value of x for z(x) is -1.8618354629020137\n"
          ]
        }
      ]
    },
    {
      "cell_type": "markdown",
      "source": [
        "4 problem"
      ],
      "metadata": {
        "id": "0LUBxqP4_7ty"
      }
    },
    {
      "cell_type": "code",
      "source": [
        "# Assuming we have the following data points\n",
        "expected_output = [1, 2, 3, 4, 5]\n",
        "predicted_output = [2, 3, 4, 5, 6]\n",
        "\n",
        "# Initialize the parameters\n",
        "M = 0\n",
        "C = 0\n",
        "\n",
        "# Learning rate\n",
        "learning_rate = 0.01\n",
        "\n",
        "# Number of iterations\n",
        "iterations = 1000\n",
        "\n",
        "def predict(x, M, C):\n",
        "    return M * x + C\n",
        "\n",
        "def square_error(expected, predicted):\n",
        "    return (expected - predicted) ** 2\n",
        "\n",
        "def gradient_descent(expected_output, predicted_output, learning_rate, iterations):\n",
        "    global M, C\n",
        "    n = len(expected_output)\n",
        "\n",
        "    for _ in range(iterations):\n",
        "        dM = 0\n",
        "        dC = 0\n",
        "        for i in range(n):\n",
        "            dM += -2 * predicted_output[i] * (expected_output[i] - predict(predicted_output[i], M, C))\n",
        "            dC += -2 * (expected_output[i] - predict(predicted_output[i], M, C))\n",
        "        M -= (dM / n) * learning_rate\n",
        "        C -= (dC / n) * learning_rate\n",
        "\n",
        "    return M, C\n",
        "\n",
        "# Run gradient descent\n",
        "optimal_M, optimal_C = gradient_descent(expected_output, predicted_output, learning_rate, iterations)\n",
        "print(f\"Optimal values of M and C are: M = {optimal_M}, C = {optimal_C}\")\n"
      ],
      "metadata": {
        "colab": {
          "base_uri": "https://localhost:8080/"
        },
        "id": "8HGN-xtG_8_s",
        "outputId": "e9bb039f-d59d-4c25-d864-c1a0718b274c"
      },
      "execution_count": 4,
      "outputs": [
        {
          "output_type": "stream",
          "name": "stdout",
          "text": [
            "Optimal values of M and C are: M = 0.9687112245577285, C = -0.8600285123045526\n"
          ]
        }
      ]
    }
  ]
}