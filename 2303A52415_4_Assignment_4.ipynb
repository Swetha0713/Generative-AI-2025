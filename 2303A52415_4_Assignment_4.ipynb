{
  "nbformat": 4,
  "nbformat_minor": 0,
  "metadata": {
    "colab": {
      "provenance": [],
      "authorship_tag": "ABX9TyNFKMZua/LinUPyJXobNhjY",
      "include_colab_link": true
    },
    "kernelspec": {
      "name": "python3",
      "display_name": "Python 3"
    },
    "language_info": {
      "name": "python"
    }
  },
  "cells": [
    {
      "cell_type": "markdown",
      "metadata": {
        "id": "view-in-github",
        "colab_type": "text"
      },
      "source": [
        "<a href=\"https://colab.research.google.com/github/Swetha0713/Generative-AI-2025/blob/main/2303A52415_4_Assignment_4.ipynb\" target=\"_parent\"><img src=\"https://colab.research.google.com/assets/colab-badge.svg\" alt=\"Open In Colab\"/></a>"
      ]
    },
    {
      "cell_type": "code",
      "execution_count": 1,
      "metadata": {
        "colab": {
          "base_uri": "https://localhost:8080/"
        },
        "id": "YeEVW0aSBa9F",
        "outputId": "4b827c1e-150f-43e8-ee29-4c6ec1a86f47"
      },
      "outputs": [
        {
          "output_type": "stream",
          "name": "stdout",
          "text": [
            "Trained weights: [0.40824363 0.26606629 0.39009349]\n",
            "Trained bias: -0.17039624154055555\n"
          ]
        }
      ],
      "source": [
        "import numpy as np\n",
        "X_train = np.array([[0.1, 0.2, 0.3],\n",
        "                    [0.2, 0.3, 0.4],\n",
        "                    [0.3, 0.4, 0.5],\n",
        "                    [0.5, 0.6, 0.7],\n",
        "                    [0.1, 0.3, 0.5],\n",
        "                    [0.2, 0.4, 0.6],\n",
        "                    [0.3, 0.5, 0.7],\n",
        "                    [0.4, 0.6, 0.8],\n",
        "                    [0.5, 0.7, 0.1]])\n",
        "y_train = np.array([0.14, 0.20, 0.26, 0.38, 0.22, 0.28, 0.34, 0.40, 0.22])\n",
        "weights = np.random.rand(3)\n",
        "bias = np.random.rand()\n",
        "learning_rate = 0.01\n",
        "iterations = 1000\n",
        "def linear_activation(x):\n",
        "    return x\n",
        "def mean_square_error(y_true, y_pred):\n",
        "    return np.mean((y_true - y_pred) ** 2)\n",
        "for _ in range(iterations):\n",
        "    # Forward pass\n",
        "    y_pred = linear_activation(np.dot(X_train, weights) + bias)\n",
        "\n",
        "    # Calculate error\n",
        "    error = y_train - y_pred\n",
        "\n",
        "    # Backward pass (calculate gradients)\n",
        "    d_weights = -2 * np.dot(X_train.T, error) / len(X_train)\n",
        "    d_bias = -2 * np.mean(error)\n",
        "\n",
        "    # Update weights and bias\n",
        "    weights -= learning_rate * d_weights\n",
        "    bias -= learning_rate * d_bias\n",
        "\n",
        "print(f\"Trained weights: {weights}\")\n",
        "print(f\"Trained bias: {bias}\")\n"
      ]
    },
    {
      "cell_type": "code",
      "source": [
        "# Testing data from Table 2\n",
        "X_test = np.array([[0.6, 0.7, 0.8],\n",
        "                   [0.7, 0.8, 0.9]])\n",
        "y_test = np.array([0.44, 0.50])\n",
        "\n",
        "# Calculate Mean Square Error for training data\n",
        "y_train_pred = linear_activation(np.dot(X_train, weights) + bias)\n",
        "mse_train = mean_square_error(y_train, y_train_pred)\n",
        "\n",
        "# Calculate Mean Square Error for testing data\n",
        "y_test_pred = linear_activation(np.dot(X_test, weights) + bias)\n",
        "mse_test = mean_square_error(y_test, y_test_pred)\n",
        "\n",
        "print(f\"MSE Train: {mse_train}\")\n",
        "print(f\"MSE test: {mse_test}\")\n"
      ],
      "metadata": {
        "colab": {
          "base_uri": "https://localhost:8080/"
        },
        "id": "uIrcPvcVBqgv",
        "outputId": "9a7859a4-4242-42d1-e924-88074c41b479"
      },
      "execution_count": 3,
      "outputs": [
        {
          "output_type": "stream",
          "name": "stdout",
          "text": [
            "MSE Train: 0.0036200765501333016\n",
            "MSE test: 0.024903669783119246\n"
          ]
        }
      ]
    },
    {
      "cell_type": "code",
      "source": [
        "\n",
        "def predict(x):\n",
        "    return linear_activation(np.dot(x, weights) + bias)\n",
        "\n",
        "# Read input data from the user\n",
        "x1 = float(input(\"Enter value for x1: \"))\n",
        "x2 = float(input(\"Enter value for x2: \"))\n",
        "x3 = float(input(\"Enter value for x3: \"))\n",
        "\n",
        "# Predict output using the trained model\n",
        "new_input = np.array([x1, x2, x3])\n",
        "predicted_output = predict(new_input)\n",
        "\n",
        "print(f\"Predicted output: {predicted_output}\")\n"
      ],
      "metadata": {
        "colab": {
          "base_uri": "https://localhost:8080/"
        },
        "id": "VZJTUc_7B3SA",
        "outputId": "6df186da-54f6-435e-bae5-7ed938218db6"
      },
      "execution_count": 4,
      "outputs": [
        {
          "output_type": "stream",
          "name": "stdout",
          "text": [
            "Enter value for x1: 0.4\n",
            "Enter value for x2: 3.5\n",
            "Enter value for x3: 0.9\n",
            "Predicted output: 1.2752173576278965\n"
          ]
        }
      ]
    },
    {
      "cell_type": "code",
      "source": [],
      "metadata": {
        "id": "GyQbwfcfCdTK"
      },
      "execution_count": null,
      "outputs": []
    },
    {
      "cell_type": "markdown",
      "source": [
        "problem-2"
      ],
      "metadata": {
        "id": "sxyM4mldCd0u"
      }
    },
    {
      "cell_type": "code",
      "source": [
        "import numpy as np\n",
        "def sigmoid(x):\n",
        "    return 1 / (1 + np.exp(-x))\n",
        "def sigmoid_derivative(x):\n",
        "    return x * (1 - x)\n",
        "X_train = np.array([[0.1, 0.2, 0.3],\n",
        "                    [0.2, 0.3, 0.4],\n",
        "                    [0.3, 0.4, 0.5],\n",
        "                    [0.5, 0.6, 0.7],\n",
        "                    [0.1, 0.3, 0.5],\n",
        "                    [0.2, 0.4, 0.6],\n",
        "                    [0.3, 0.5, 0.7],\n",
        "                    [0.4, 0.6, 0.8],\n",
        "                    [0.5, 0.7, 0.1]])\n",
        "\n",
        "y_train = np.array([[0.5349],\n",
        "                    [0.5498],\n",
        "                    [0.5646],\n",
        "                    [0.5939],\n",
        "                    [0.5548],\n",
        "                    [0.5695],\n",
        "                    [0.5842],\n",
        "                    [0.5987],\n",
        "                    [0.5548]])\n",
        "weights = np.random.rand(3, 1)\n",
        "bias = np.random.rand(1)\n",
        "learning_rate = 0.01\n",
        "iterations = 1000\n",
        "\n",
        "for _ in range(iterations):\n",
        "    # Forward pass\n",
        "    z = np.dot(X_train, weights) + bias\n",
        "    y_pred = sigmoid(z)\n",
        "\n",
        "    # Calculate error\n",
        "    error = y_train - y_pred\n",
        "\n",
        "    # Backward pass (calculate gradients)\n",
        "    d_weights = np.dot(X_train.T, error * sigmoid_derivative(y_pred))\n",
        "    d_bias = np.sum(error * sigmoid_derivative(y_pred))\n",
        "\n",
        "    # Update weights and bias\n",
        "    weights += learning_rate * d_weights\n",
        "    bias += learning_rate * d_bias\n",
        "\n",
        "print(f\"Trained weights: {weights}\")\n",
        "print(f\"Trained bias: {bias}\")\n"
      ],
      "metadata": {
        "colab": {
          "base_uri": "https://localhost:8080/"
        },
        "id": "oXIbSQY_CfLi",
        "outputId": "25aaab88-3f3c-4397-8198-7804d0435e9f"
      },
      "execution_count": 6,
      "outputs": [
        {
          "output_type": "stream",
          "name": "stdout",
          "text": [
            "Trained weights: [[-0.01802147]\n",
            " [ 0.13264526]\n",
            " [ 0.45067234]]\n",
            "Trained bias: [-0.01251456]\n"
          ]
        }
      ]
    },
    {
      "cell_type": "code",
      "source": [
        "\n",
        "X_test = np.array([[0.6, 0.7, 0.8],\n",
        "                   [0.7, 0.8, 0.9]])\n",
        "\n",
        "y_test = np.array([[0.6083],\n",
        "                   [0.6225]])\n",
        "def mean_square_error(y_true, y_pred):\n",
        "    return np.mean((y_true - y_pred) ** 2)\n",
        "y_train_pred = sigmoid(np.dot(X_train, weights) + bias)\n",
        "mse_train = mean_square_error(y_train, y_train_pred)\n",
        "y_test_pred = sigmoid(np.dot(X_test, weights) + bias)\n",
        "mse_test = mean_square_error(y_test, y_test_pred)\n",
        "\n",
        "print(f\"MSE Training Data: {mse_train}\")\n",
        "print(f\"MSE for Testing Data: {mse_test}\")\n"
      ],
      "metadata": {
        "colab": {
          "base_uri": "https://localhost:8080/"
        },
        "id": "VP4751raCtom",
        "outputId": "e7a1f380-6c66-4098-e7a2-76978f272240"
      },
      "execution_count": 8,
      "outputs": [
        {
          "output_type": "stream",
          "name": "stdout",
          "text": [
            "MSE Training Data: 9.215080901333366e-05\n",
            "MSE for Testing Data: 8.01743286029733e-06\n"
          ]
        }
      ]
    },
    {
      "cell_type": "code",
      "source": [
        "\n",
        "def predict(x):\n",
        "    return sigmoid(np.dot(x, weights) + bias)\n",
        "\n",
        "# Read input data from the user\n",
        "x1 = float(input(\"Enter value for x1: \"))\n",
        "x2 = float(input(\"Enter value for x2: \"))\n",
        "x3 = float(input(\"Enter value for x3: \"))\n",
        "new_input = np.array([x1, x2, x3])\n",
        "predicted_output = predict(new_input)\n",
        "\n",
        "print(f\"Predicted output: {predicted_output}\")\n"
      ],
      "metadata": {
        "colab": {
          "base_uri": "https://localhost:8080/"
        },
        "id": "fKBB-wacDBJM",
        "outputId": "769481a9-9070-41d3-ca80-efa03965dd0f"
      },
      "execution_count": 9,
      "outputs": [
        {
          "output_type": "stream",
          "name": "stdout",
          "text": [
            "Enter value for x1: 1.8\n",
            "Enter value for x2: 5.6\n",
            "Enter value for x3: 8\n",
            "Predicted output: [0.98665579]\n"
          ]
        }
      ]
    }
  ]
}