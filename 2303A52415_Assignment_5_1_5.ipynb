{
  "nbformat": 4,
  "nbformat_minor": 0,
  "metadata": {
    "colab": {
      "provenance": [],
      "authorship_tag": "ABX9TyN5wYsX7GNJmnzf70hNkCuX",
      "include_colab_link": true
    },
    "kernelspec": {
      "name": "python3",
      "display_name": "Python 3"
    },
    "language_info": {
      "name": "python"
    }
  },
  "cells": [
    {
      "cell_type": "markdown",
      "metadata": {
        "id": "view-in-github",
        "colab_type": "text"
      },
      "source": [
        "<a href=\"https://colab.research.google.com/github/Swetha0713/Generative-AI-2025/blob/main/2303A52415_Assignment_5_1_5.ipynb\" target=\"_parent\"><img src=\"https://colab.research.google.com/assets/colab-badge.svg\" alt=\"Open In Colab\"/></a>"
      ]
    },
    {
      "cell_type": "code",
      "execution_count": 1,
      "metadata": {
        "id": "Tysa0vib1Bjt"
      },
      "outputs": [],
      "source": [
        "import numpy as np\n",
        "def sigmoid(x):\n",
        "    return 1 / (1 + np.exp(-x))\n",
        "def sigmoid_derivative(x):\n",
        "    return x * (1 - x)\n",
        "np.random.seed(42)\n",
        "input_layer_neurons = 2\n",
        "hidden_layer_neurons = 2\n",
        "output_neuron = 1\n",
        "\n",
        "W1 = np.random.rand(input_layer_neurons, hidden_layer_neurons)\n",
        "b1 = np.random.rand(hidden_layer_neurons)\n",
        "W2 = np.random.rand(hidden_layer_neurons, output_neuron)\n",
        "b2 = np.random.rand(output_neuron)\n"
      ]
    },
    {
      "cell_type": "code",
      "source": [
        "\n",
        "X_train = np.array([[0.1, 0.2], [0.2, 0.3], [0.3, 0.4], [0.6, 0.7], [0.7, 0.8], [0.8, 0.9]])\n",
        "y_train = np.array([[0.3432], [0.3490], [0.3548], [0.3720], [0.3776], [0.3832]])\n",
        "\n",
        "learning_rate = 0.1\n",
        "epochs = 10000\n",
        "\n",
        "for _ in range(epochs):\n",
        "    hidden_layer_input = np.dot(X_train, W1) + b1\n",
        "    hidden_layer_output = sigmoid(hidden_layer_input)\n",
        "    output_layer_input = np.dot(hidden_layer_output, W2) + b2\n",
        "    predicted_output = output_layer_input\n",
        "    error = y_train - predicted_output\n",
        "    d_predicted_output = error\n",
        "    d_hidden_layer = d_predicted_output.dot(W2.T) * sigmoid_derivative(hidden_layer_output)\n",
        "    W2 += hidden_layer_output.T.dot(d_predicted_output) * learning_rate\n",
        "    b2 += np.sum(d_predicted_output, axis=0) * learning_rate\n",
        "    W1 += X_train.T.dot(d_hidden_layer) * learning_rate\n",
        "    b1 += np.sum(d_hidden_layer, axis=0) * learning_rate\n"
      ],
      "metadata": {
        "id": "RrlP9dtm1LSc"
      },
      "execution_count": 2,
      "outputs": []
    },
    {
      "cell_type": "code",
      "source": [],
      "metadata": {
        "id": "wA1lyj651RPM"
      },
      "execution_count": null,
      "outputs": []
    },
    {
      "cell_type": "code",
      "source": [
        "\n",
        "X_test = np.array([[0.4, 0.5], [0.5, 0.6]])\n",
        "y_test = np.array([[0.3606], [0.3663]])\n",
        "hidden_layer_output_train = sigmoid(np.dot(X_train, W1) + b1)\n",
        "predicted_output_train = np.dot(hidden_layer_output_train, W2) + b2\n",
        "hidden_layer_output_test = sigmoid(np.dot(X_test, W1) + b1)\n",
        "predicted_output_test = np.dot(hidden_layer_output_test, W2) + b2\n",
        "\n",
        "mse_train = np.mean((y_train - predicted_output_train) ** 2)\n",
        "mse_test = np.mean((y_test - predicted_output_test) ** 2)\n",
        "\n",
        "print(f'Training MSE: {mse_train}')\n",
        "print(f'Testing MSE: {mse_test}')\n"
      ],
      "metadata": {
        "colab": {
          "base_uri": "https://localhost:8080/"
        },
        "id": "NPOxmif21RaW",
        "outputId": "5d0a870c-3496-48e1-87d4-134001456398"
      },
      "execution_count": 3,
      "outputs": [
        {
          "output_type": "stream",
          "name": "stdout",
          "text": [
            "Training MSE: 4.647810262924023e-07\n",
            "Testing MSE: 1.21760105376308e-06\n"
          ]
        }
      ]
    },
    {
      "cell_type": "code",
      "source": [
        "\n",
        "def predict(x1, x2):\n",
        "    input_data = np.array([[x1, x2]])\n",
        "    hidden_layer_output = sigmoid(np.dot(input_data, W1) + b1)\n",
        "    predicted_output = np.dot(hidden_layer_output, W2) + b2\n",
        "    return predicted_output[0]\n",
        "x1 = float(input('Enter x1: '))\n",
        "x2 = float(input('Enter x2: '))\n",
        "predicted_output = predict(x1, x2)\n",
        "print(f'Predicted Output: {predicted_output}')\n"
      ],
      "metadata": {
        "colab": {
          "base_uri": "https://localhost:8080/"
        },
        "id": "qNM_-5Yx1Sme",
        "outputId": "a57c0bd2-a579-43ca-8a10-0c2ee95d35dd"
      },
      "execution_count": 4,
      "outputs": [
        {
          "output_type": "stream",
          "name": "stdout",
          "text": [
            "Enter x1: 0.8\n",
            "Enter x2: 0.9\n",
            "Predicted Output: [0.38222014]\n"
          ]
        }
      ]
    }
  ]
}