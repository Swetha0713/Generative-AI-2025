{
  "nbformat": 4,
  "nbformat_minor": 0,
  "metadata": {
    "colab": {
      "provenance": [],
      "authorship_tag": "ABX9TyMD6bqtGO+81b6QPmWTq+na",
      "include_colab_link": true
    },
    "kernelspec": {
      "name": "python3",
      "display_name": "Python 3"
    },
    "language_info": {
      "name": "python"
    }
  },
  "cells": [
    {
      "cell_type": "markdown",
      "metadata": {
        "id": "view-in-github",
        "colab_type": "text"
      },
      "source": [
        "<a href=\"https://colab.research.google.com/github/Swetha0713/Generative-AI-2025/blob/main/generative_ai_assignment_1.ipynb\" target=\"_parent\"><img src=\"https://colab.research.google.com/assets/colab-badge.svg\" alt=\"Open In Colab\"/></a>"
      ]
    },
    {
      "cell_type": "code",
      "execution_count": null,
      "metadata": {
        "colab": {
          "base_uri": "https://localhost:8080/"
        },
        "id": "Rvb6wk06dh8f",
        "outputId": "ad64fd74-82b0-4bba-cbd5-b3d69d42ee92"
      },
      "outputs": [
        {
          "output_type": "stream",
          "name": "stdout",
          "text": [
            "MAE: 0.4600000000000016\n",
            "MSE: 0.24600000000000147\n",
            "RMSE: 0.49598387070549127\n"
          ]
        }
      ],
      "source": [
        "import numpy as np\n",
        "y_actual = np.array([20, 30, 40, 50, 60])\n",
        "y_pred = np.array([20.5, 30.3, 40.2, 50.6, 60.7])\n",
        "mae = np.mean(np.abs(y_actual - y_pred))\n",
        "mse = np.mean((y_actual - y_pred)**2)\n",
        "rmse = np.sqrt(mse)\n",
        "\n",
        "\n",
        "print(f\"MAE: {mae}\")\n",
        "print(f\"MSE: {mse}\")\n",
        "print(f\"RMSE: {rmse}\")\n"
      ]
    },
    {
      "cell_type": "markdown",
      "source": [
        "USING LIBRARIES"
      ],
      "metadata": {
        "id": "9rHaaBdQhYr0"
      }
    },
    {
      "cell_type": "code",
      "source": [
        "from sklearn.metrics import mean_absolute_error, mean_squared_error, mean_absolute_percentage_error\n",
        "\n",
        "mae_lib = mean_absolute_error(y_actual, y_pred)\n",
        "mse_lib = mean_squared_error(y_actual, y_pred)\n",
        "rmse_lib = np.sqrt(mse_lib)\n",
        "print(f\"MAE (lib): {mae_lib}\")\n",
        "print(f\"MSE (lib): {mse_lib}\")\n",
        "print(f\"RMSE (lib): {rmse_lib}\")\n"
      ],
      "metadata": {
        "colab": {
          "base_uri": "https://localhost:8080/"
        },
        "id": "uv577sRwhrLD",
        "outputId": "3c399ce4-d828-4104-89e8-6b68c92a6073"
      },
      "execution_count": null,
      "outputs": [
        {
          "output_type": "stream",
          "name": "stdout",
          "text": [
            "MAE (lib): 0.4600000000000016\n",
            "MSE (lib): 0.24600000000000147\n",
            "RMSE (lib): 0.49598387070549127\n"
          ]
        }
      ]
    },
    {
      "cell_type": "markdown",
      "source": [
        "2 QUESTION"
      ],
      "metadata": {
        "id": "lpB-0MAGiJK4"
      }
    },
    {
      "cell_type": "code",
      "source": [
        "import numpy as np\n",
        "from sklearn.metrics import confusion_matrix, accuracy_score, precision_score, recall_score, f1_score\n",
        "y_actual = np.array([0, 1, 2, 0, 1, 2, 0, 1, 2, 0, 1, 2, 0, 1, 2])\n",
        "y_pred = np.array([0, 0, 0, 0, 0, 0, 1, 2, 1, 2, 0, 2, 2, 2, 2])\n",
        "conf_matrix = confusion_matrix(y_actual, y_pred)\n",
        "\n",
        "\n",
        "accuracy = accuracy_score(y_actual, y_pred)\n",
        "precision = precision_score(y_actual, y_pred, average='macro')\n",
        "recall = recall_score(y_actual, y_pred, average='macro')\n",
        "f1 = f1_score(y_actual, y_pred, average='macro')\n",
        "\n",
        "print(\"Confusion Matrix:\")\n",
        "print(conf_matrix)\n",
        "print(f\"Accuracy: {accuracy}\")\n",
        "print(f\"Precision: {precision}\")\n",
        "print(f\"Recall: {recall}\")\n",
        "print(f\"F1 Score: {f1}\")\n"
      ],
      "metadata": {
        "colab": {
          "base_uri": "https://localhost:8080/"
        },
        "id": "-AoSQsz6iNT2",
        "outputId": "f4a3c513-b4d9-4c53-a7cc-d85fe34f6698"
      },
      "execution_count": null,
      "outputs": [
        {
          "output_type": "stream",
          "name": "stdout",
          "text": [
            "Confusion Matrix:\n",
            "[[2 1 2]\n",
            " [3 0 2]\n",
            " [2 1 2]]\n",
            "Accuracy: 0.26666666666666666\n",
            "Precision: 0.20634920634920637\n",
            "Recall: 0.26666666666666666\n",
            "F1 Score: 0.23232323232323235\n"
          ]
        }
      ]
    },
    {
      "cell_type": "code",
      "source": [
        "from sklearn.metrics import accuracy_score, precision_score, recall_score, f1_score, confusion_matrix\n",
        "conf_matrix_lib = confusion_matrix(y_actual, y_pred)\n",
        "accuracy_lib = accuracy_score(y_actual, y_pred)\n",
        "precision_lib = precision_score(y_actual, y_pred, average='macro')\n",
        "recall_lib = recall_score(y_actual, y_pred, average='macro')\n",
        "f1_lib = f1_score(y_actual, y_pred, average='macro')\n",
        "\n",
        "print(\"Confusion Matrix (lib):\")\n",
        "print(conf_matrix_lib)\n",
        "print(f\"Accuracy (lib): {accuracy_lib}\")\n",
        "print(f\"Precision (lib): {precision_lib}\")\n",
        "print(f\"Recall (lib): {recall_lib}\")\n",
        "print(f\"F1 Score (lib): {f1_lib}\")\n"
      ],
      "metadata": {
        "colab": {
          "base_uri": "https://localhost:8080/"
        },
        "id": "hzyaZKoPjYQw",
        "outputId": "eafa1ffc-4f06-40cd-c8aa-dea55ee59341"
      },
      "execution_count": null,
      "outputs": [
        {
          "output_type": "stream",
          "name": "stdout",
          "text": [
            "Confusion Matrix (lib):\n",
            "[[2 1 2]\n",
            " [3 0 2]\n",
            " [2 1 2]]\n",
            "Accuracy (lib): 0.26666666666666666\n",
            "Precision (lib): 0.20634920634920637\n",
            "Recall (lib): 0.26666666666666666\n",
            "F1 Score (lib): 0.23232323232323235\n"
          ]
        }
      ]
    }
  ]
}