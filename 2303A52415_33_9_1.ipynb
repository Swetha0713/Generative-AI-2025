{
  "nbformat": 4,
  "nbformat_minor": 0,
  "metadata": {
    "colab": {
      "provenance": [],
      "authorship_tag": "ABX9TyMdHwunx5mz3xW8yVBbkc+a",
      "include_colab_link": true
    },
    "kernelspec": {
      "name": "python3",
      "display_name": "Python 3"
    },
    "language_info": {
      "name": "python"
    }
  },
  "cells": [
    {
      "cell_type": "markdown",
      "metadata": {
        "id": "view-in-github",
        "colab_type": "text"
      },
      "source": [
        "<a href=\"https://colab.research.google.com/github/Swetha0713/Generative-AI-2025/blob/main/2303A52415_33_9_1.ipynb\" target=\"_parent\"><img src=\"https://colab.research.google.com/assets/colab-badge.svg\" alt=\"Open In Colab\"/></a>"
      ]
    },
    {
      "cell_type": "code",
      "execution_count": 1,
      "metadata": {
        "colab": {
          "base_uri": "https://localhost:8080/"
        },
        "id": "IRN6fRxAiiJS",
        "outputId": "c7a587bd-4753-445d-d293-cc2989e98d8e"
      },
      "outputs": [
        {
          "output_type": "stream",
          "name": "stdout",
          "text": [
            "Downloading data from https://storage.googleapis.com/tensorflow/tf-keras-datasets/mnist.npz\n",
            "\u001b[1m11490434/11490434\u001b[0m \u001b[32m━━━━━━━━━━━━━━━━━━━━\u001b[0m\u001b[37m\u001b[0m \u001b[1m0s\u001b[0m 0us/step\n"
          ]
        },
        {
          "output_type": "stream",
          "name": "stderr",
          "text": [
            "/usr/local/lib/python3.11/dist-packages/keras/src/layers/reshaping/flatten.py:37: UserWarning: Do not pass an `input_shape`/`input_dim` argument to a layer. When using Sequential models, prefer using an `Input(shape)` object as the first layer in the model instead.\n",
            "  super().__init__(**kwargs)\n"
          ]
        },
        {
          "output_type": "stream",
          "name": "stdout",
          "text": [
            "Epoch 1/10\n",
            "\u001b[1m422/422\u001b[0m \u001b[32m━━━━━━━━━━━━━━━━━━━━\u001b[0m\u001b[37m\u001b[0m \u001b[1m13s\u001b[0m 14ms/step - accuracy: 0.1139 - loss: 2.3523 - val_accuracy: 0.1107 - val_loss: 2.3462\n",
            "Epoch 2/10\n",
            "\u001b[1m422/422\u001b[0m \u001b[32m━━━━━━━━━━━━━━━━━━━━\u001b[0m\u001b[37m\u001b[0m \u001b[1m2s\u001b[0m 6ms/step - accuracy: 0.1190 - loss: 2.3344 - val_accuracy: 0.1135 - val_loss: 2.3275\n",
            "Epoch 3/10\n",
            "\u001b[1m422/422\u001b[0m \u001b[32m━━━━━━━━━━━━━━━━━━━━\u001b[0m\u001b[37m\u001b[0m \u001b[1m2s\u001b[0m 4ms/step - accuracy: 0.1235 - loss: 2.3177 - val_accuracy: 0.1182 - val_loss: 2.3102\n",
            "Epoch 4/10\n",
            "\u001b[1m422/422\u001b[0m \u001b[32m━━━━━━━━━━━━━━━━━━━━\u001b[0m\u001b[37m\u001b[0m \u001b[1m2s\u001b[0m 4ms/step - accuracy: 0.1232 - loss: 2.3019 - val_accuracy: 0.1227 - val_loss: 2.2943\n",
            "Epoch 5/10\n",
            "\u001b[1m422/422\u001b[0m \u001b[32m━━━━━━━━━━━━━━━━━━━━\u001b[0m\u001b[37m\u001b[0m \u001b[1m2s\u001b[0m 5ms/step - accuracy: 0.1310 - loss: 2.2864 - val_accuracy: 0.1262 - val_loss: 2.2796\n",
            "Epoch 6/10\n",
            "\u001b[1m422/422\u001b[0m \u001b[32m━━━━━━━━━━━━━━━━━━━━\u001b[0m\u001b[37m\u001b[0m \u001b[1m2s\u001b[0m 5ms/step - accuracy: 0.1356 - loss: 2.2716 - val_accuracy: 0.1327 - val_loss: 2.2661\n",
            "Epoch 7/10\n",
            "\u001b[1m422/422\u001b[0m \u001b[32m━━━━━━━━━━━━━━━━━━━━\u001b[0m\u001b[37m\u001b[0m \u001b[1m2s\u001b[0m 4ms/step - accuracy: 0.1358 - loss: 2.2600 - val_accuracy: 0.1375 - val_loss: 2.2535\n",
            "Epoch 8/10\n",
            "\u001b[1m422/422\u001b[0m \u001b[32m━━━━━━━━━━━━━━━━━━━━\u001b[0m\u001b[37m\u001b[0m \u001b[1m2s\u001b[0m 4ms/step - accuracy: 0.1433 - loss: 2.2487 - val_accuracy: 0.1412 - val_loss: 2.2413\n",
            "Epoch 9/10\n",
            "\u001b[1m422/422\u001b[0m \u001b[32m━━━━━━━━━━━━━━━━━━━━\u001b[0m\u001b[37m\u001b[0m \u001b[1m2s\u001b[0m 4ms/step - accuracy: 0.1493 - loss: 2.2367 - val_accuracy: 0.1475 - val_loss: 2.2293\n",
            "Epoch 10/10\n",
            "\u001b[1m422/422\u001b[0m \u001b[32m━━━━━━━━━━━━━━━━━━━━\u001b[0m\u001b[37m\u001b[0m \u001b[1m2s\u001b[0m 4ms/step - accuracy: 0.1529 - loss: 2.2272 - val_accuracy: 0.1548 - val_loss: 2.2172\n",
            "📈 Training Accuracy: 0.1583\n",
            "🧪 Testing Accuracy: 0.1677\n",
            "\u001b[1m313/313\u001b[0m \u001b[32m━━━━━━━━━━━━━━━━━━━━\u001b[0m\u001b[37m\u001b[0m \u001b[1m1s\u001b[0m 2ms/step\n",
            "\n",
            "🧮 Confusion Matrix:\n",
            "[[  0   0  79   2   0   0   6   0   8 885]\n",
            " [  0   5 738   0   0   0  39   0   1 352]\n",
            " [  0   0 639   1   0   0  15   0   3 374]\n",
            " [  0   0 492   7   0   0  18   0  25 468]\n",
            " [  0   0 118   1   0   0  24   0  24 815]\n",
            " [  0   0 113   2   0   0  24   0  12 741]\n",
            " [  0   0 260   0   0   0 118   0   1 579]\n",
            " [  0   0 166   8   0   0  13   0  32 809]\n",
            " [  0   0 229   0   0   0  10   0  10 725]\n",
            " [  0   1  72   1   0   1  12   0  24 898]]\n",
            "\n",
            "📊 Classification Report:\n"
          ]
        },
        {
          "output_type": "stream",
          "name": "stderr",
          "text": [
            "/usr/local/lib/python3.11/dist-packages/sklearn/metrics/_classification.py:1565: UndefinedMetricWarning: Precision is ill-defined and being set to 0.0 in labels with no predicted samples. Use `zero_division` parameter to control this behavior.\n",
            "  _warn_prf(average, modifier, f\"{metric.capitalize()} is\", len(result))\n",
            "/usr/local/lib/python3.11/dist-packages/sklearn/metrics/_classification.py:1565: UndefinedMetricWarning: Precision is ill-defined and being set to 0.0 in labels with no predicted samples. Use `zero_division` parameter to control this behavior.\n",
            "  _warn_prf(average, modifier, f\"{metric.capitalize()} is\", len(result))\n",
            "/usr/local/lib/python3.11/dist-packages/sklearn/metrics/_classification.py:1565: UndefinedMetricWarning: Precision is ill-defined and being set to 0.0 in labels with no predicted samples. Use `zero_division` parameter to control this behavior.\n",
            "  _warn_prf(average, modifier, f\"{metric.capitalize()} is\", len(result))\n",
            "WARNING:absl:You are saving your model as an HDF5 file via `model.save()` or `keras.saving.save_model(model)`. This file format is considered legacy. We recommend using instead the native Keras format, e.g. `model.save('my_model.keras')` or `keras.saving.save_model(model, 'my_model.keras')`. \n"
          ]
        },
        {
          "output_type": "stream",
          "name": "stdout",
          "text": [
            "              precision    recall  f1-score   support\n",
            "\n",
            "           0       0.00      0.00      0.00       980\n",
            "           1       0.83      0.00      0.01      1135\n",
            "           2       0.22      0.62      0.32      1032\n",
            "           3       0.32      0.01      0.01      1010\n",
            "           4       0.00      0.00      0.00       982\n",
            "           5       0.00      0.00      0.00       892\n",
            "           6       0.42      0.12      0.19       958\n",
            "           7       0.00      0.00      0.00      1028\n",
            "           8       0.07      0.01      0.02       974\n",
            "           9       0.14      0.89      0.23      1009\n",
            "\n",
            "    accuracy                           0.17     10000\n",
            "   macro avg       0.20      0.17      0.08     10000\n",
            "weighted avg       0.21      0.17      0.08     10000\n",
            "\n",
            "💾 Model saved as mnist_ann_model_default.h5\n"
          ]
        }
      ],
      "source": [
        "# -----------------------------------------------\n",
        "# MNIST Handwritten Digit Classification - ANN\n",
        "# Date: 2025-03-21\n",
        "# Author: Ashutosh Kumar\n",
        "# -----------------------------------------------\n",
        "\n",
        "# STEP 1: IMPORT LIBRARIES\n",
        "import numpy as np\n",
        "from tensorflow.keras.datasets import mnist\n",
        "from tensorflow.keras.models import Sequential\n",
        "from tensorflow.keras.layers import Dense, Flatten\n",
        "from tensorflow.keras.utils import to_categorical\n",
        "from sklearn.metrics import classification_report, confusion_matrix\n",
        "\n",
        "# STEP 2: LOAD DATASET\n",
        "(X_train, y_train), (X_test, y_test) = mnist.load_data()\n",
        "\n",
        "# STEP 3: PREPROCESSING\n",
        "X_train = X_train / 255.0\n",
        "X_test = X_test / 255.0\n",
        "y_train_cat = to_categorical(y_train, 10)\n",
        "y_test_cat = to_categorical(y_test, 10)\n",
        "\n",
        "# STEP 4: DEFAULT MODEL (3 Hidden Layers - 32 Neurons each, relu)\n",
        "model1 = Sequential([\n",
        "    Flatten(input_shape=(28, 28)),\n",
        "    Dense(32, activation='relu'),\n",
        "    Dense(32, activation='relu'),\n",
        "    Dense(32, activation='relu'),\n",
        "    Dense(10, activation='softmax')\n",
        "])\n",
        "model1.compile(optimizer='adadelta', loss='categorical_crossentropy', metrics=['accuracy'])\n",
        "\n",
        "# STEP 5: TRAINING\n",
        "model1.fit(X_train, y_train_cat, epochs=10, batch_size=128, validation_split=0.1)\n",
        "\n",
        "# STEP 6: EVALUATION\n",
        "train_loss, train_acc = model1.evaluate(X_train, y_train_cat, verbose=0)\n",
        "test_loss, test_acc = model1.evaluate(X_test, y_test_cat, verbose=0)\n",
        "print(f\"📈 Training Accuracy: {train_acc:.4f}\")\n",
        "print(f\"🧪 Testing Accuracy: {test_acc:.4f}\")\n",
        "\n",
        "# STEP 7: CONFUSION MATRIX & METRICS\n",
        "y_pred = model1.predict(X_test)\n",
        "y_pred_classes = np.argmax(y_pred, axis=1)\n",
        "\n",
        "print(\"\\n🧮 Confusion Matrix:\")\n",
        "print(confusion_matrix(y_test, y_pred_classes))\n",
        "\n",
        "print(\"\\n📊 Classification Report:\")\n",
        "print(classification_report(y_test, y_pred_classes))\n",
        "\n",
        "# STEP 8: SAVE MODEL\n",
        "model1.save(\"mnist_ann_model_default.h5\")\n",
        "print(\"💾 Model saved as mnist_ann_model_default.h5\")\n"
      ]
    },
    {
      "cell_type": "code",
      "source": [
        "# Tuned Architecture (More neurons + different activations)\n",
        "model2 = Sequential([\n",
        "    Flatten(input_shape=(28, 28)),\n",
        "    Dense(64, activation='tanh'),\n",
        "    Dense(64, activation='relu'),\n",
        "    Dense(32, activation='relu'),\n",
        "    Dense(10, activation='softmax')\n",
        "])\n",
        "model2.compile(optimizer='adam', loss='categorical_crossentropy', metrics=['accuracy'])\n",
        "model2.fit(X_train, y_train_cat, epochs=10, batch_size=128, validation_split=0.1)\n",
        "\n",
        "# Evaluate\n",
        "_, test_acc2 = model2.evaluate(X_test, y_test_cat, verbose=0)\n",
        "print(f\"\\n🔍 Tuned Model Testing Accuracy: {test_acc2:.4f}\")\n"
      ],
      "metadata": {
        "colab": {
          "base_uri": "https://localhost:8080/"
        },
        "id": "skMGt9ZijJCs",
        "outputId": "ca7f836e-9c50-416c-ca79-a6039c26f4bb"
      },
      "execution_count": 2,
      "outputs": [
        {
          "output_type": "stream",
          "name": "stderr",
          "text": [
            "/usr/local/lib/python3.11/dist-packages/keras/src/layers/reshaping/flatten.py:37: UserWarning: Do not pass an `input_shape`/`input_dim` argument to a layer. When using Sequential models, prefer using an `Input(shape)` object as the first layer in the model instead.\n",
            "  super().__init__(**kwargs)\n"
          ]
        },
        {
          "output_type": "stream",
          "name": "stdout",
          "text": [
            "Epoch 1/10\n",
            "\u001b[1m422/422\u001b[0m \u001b[32m━━━━━━━━━━━━━━━━━━━━\u001b[0m\u001b[37m\u001b[0m \u001b[1m4s\u001b[0m 6ms/step - accuracy: 0.7795 - loss: 0.7965 - val_accuracy: 0.9527 - val_loss: 0.1605\n",
            "Epoch 2/10\n",
            "\u001b[1m422/422\u001b[0m \u001b[32m━━━━━━━━━━━━━━━━━━━━\u001b[0m\u001b[37m\u001b[0m \u001b[1m3s\u001b[0m 7ms/step - accuracy: 0.9473 - loss: 0.1757 - val_accuracy: 0.9632 - val_loss: 0.1229\n",
            "Epoch 3/10\n",
            "\u001b[1m422/422\u001b[0m \u001b[32m━━━━━━━━━━━━━━━━━━━━\u001b[0m\u001b[37m\u001b[0m \u001b[1m4s\u001b[0m 5ms/step - accuracy: 0.9612 - loss: 0.1267 - val_accuracy: 0.9682 - val_loss: 0.0989\n",
            "Epoch 4/10\n",
            "\u001b[1m422/422\u001b[0m \u001b[32m━━━━━━━━━━━━━━━━━━━━\u001b[0m\u001b[37m\u001b[0m \u001b[1m2s\u001b[0m 5ms/step - accuracy: 0.9685 - loss: 0.0991 - val_accuracy: 0.9697 - val_loss: 0.0980\n",
            "Epoch 5/10\n",
            "\u001b[1m422/422\u001b[0m \u001b[32m━━━━━━━━━━━━━━━━━━━━\u001b[0m\u001b[37m\u001b[0m \u001b[1m2s\u001b[0m 5ms/step - accuracy: 0.9758 - loss: 0.0758 - val_accuracy: 0.9710 - val_loss: 0.0987\n",
            "Epoch 6/10\n",
            "\u001b[1m422/422\u001b[0m \u001b[32m━━━━━━━━━━━━━━━━━━━━\u001b[0m\u001b[37m\u001b[0m \u001b[1m3s\u001b[0m 7ms/step - accuracy: 0.9802 - loss: 0.0646 - val_accuracy: 0.9717 - val_loss: 0.0914\n",
            "Epoch 7/10\n",
            "\u001b[1m422/422\u001b[0m \u001b[32m━━━━━━━━━━━━━━━━━━━━\u001b[0m\u001b[37m\u001b[0m \u001b[1m4s\u001b[0m 5ms/step - accuracy: 0.9841 - loss: 0.0519 - val_accuracy: 0.9745 - val_loss: 0.0878\n",
            "Epoch 8/10\n",
            "\u001b[1m422/422\u001b[0m \u001b[32m━━━━━━━━━━━━━━━━━━━━\u001b[0m\u001b[37m\u001b[0m \u001b[1m2s\u001b[0m 5ms/step - accuracy: 0.9872 - loss: 0.0415 - val_accuracy: 0.9727 - val_loss: 0.0876\n",
            "Epoch 9/10\n",
            "\u001b[1m422/422\u001b[0m \u001b[32m━━━━━━━━━━━━━━━━━━━━\u001b[0m\u001b[37m\u001b[0m \u001b[1m3s\u001b[0m 5ms/step - accuracy: 0.9885 - loss: 0.0359 - val_accuracy: 0.9732 - val_loss: 0.0890\n",
            "Epoch 10/10\n",
            "\u001b[1m422/422\u001b[0m \u001b[32m━━━━━━━━━━━━━━━━━━━━\u001b[0m\u001b[37m\u001b[0m \u001b[1m3s\u001b[0m 7ms/step - accuracy: 0.9906 - loss: 0.0285 - val_accuracy: 0.9763 - val_loss: 0.0909\n",
            "\n",
            "🔍 Tuned Model Testing Accuracy: 0.9739\n"
          ]
        }
      ]
    }
  ]
}